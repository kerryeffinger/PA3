{
 "cells": [
  {
   "cell_type": "markdown",
   "metadata": {},
   "source": [
    "# Programming Assignment 3\n",
    "---\n",
    "**Author:** Kerry Effinger  \n",
    "**Version:** 1.0  \n",
    "**Semester:** Fall 2020  \n",
    "\n",
    "This *notebook* contains my solution to **Programming Assignment 3**\n",
    "\n"
   ]
  },
  {
   "cell_type": "markdown",
   "metadata": {},
   "source": [
    "Problem 1:"
   ]
  },
  {
   "cell_type": "code",
   "execution_count": 16,
   "metadata": {},
   "outputs": [],
   "source": [
    "from math import sqrt"
   ]
  },
  {
   "cell_type": "code",
   "execution_count": 25,
   "metadata": {},
   "outputs": [
    {
     "name": "stdout",
     "output_type": "stream",
     "text": [
      "Enter value of side A: 12\n",
      "Enter value of side B: 16\n",
      "Enter value of side C: 21\n",
      "The area of the triangle is approximatelt 95.4512310030625 square units\n",
      "The perimeter of the triangle is 49 linear units\n"
     ]
    }
   ],
   "source": [
    "A = int(input('Enter value of side A: '))\n",
    "B = int(input('Enter value of side B: '))\n",
    "C = int(input('Enter value of side C: '))\n",
    "def calcArea(A=1,B=1,C=1):\n",
    "    s = (A + B + C)/2\n",
    "    Area = sqrt(s*(s-A)*(s-B)*(s-C))\n",
    "    return Area\n",
    "def calcPerimeter(A=1,B=1,C=1):\n",
    "    Perimeter = A + B + C\n",
    "    return Perimeter\n",
    "\n",
    "print ('The area of the triangle is approximatelt', calcArea(A,B,C), 'square units')\n",
    "print ('The perimeter of the triangle is', calcPerimeter(A,B,C), 'linear units')"
   ]
  },
  {
   "cell_type": "markdown",
   "metadata": {},
   "source": [
    "Problem 2:"
   ]
  },
  {
   "cell_type": "code",
   "execution_count": 1,
   "metadata": {},
   "outputs": [],
   "source": [
    "import random"
   ]
  },
  {
   "cell_type": "code",
   "execution_count": 46,
   "metadata": {},
   "outputs": [
    {
     "name": "stdout",
     "output_type": "stream",
     "text": [
      "Enter your guess: 700\n",
      "Too low! Guess Again\n",
      "Enter your guess: 800\n",
      "Too high! Guess Again\n",
      "Enter your guess: 750\n",
      "Too low! Guess Again\n",
      "Enter your guess: 760\n",
      "Too low! Guess Again\n",
      "Enter your guess: 770\n",
      "Too low! Guess Again\n",
      "Enter your guess: 780\n",
      "Too high! Guess Again\n",
      "Enter your guess: 775\n",
      "Too low! Guess Again\n",
      "Enter your guess: 778\n",
      "Correct!\n"
     ]
    }
   ],
   "source": [
    "number = random.randint(1,1000)\n",
    "def evaluateGuess (number):\n",
    "    \"\"\"generates random integer from 1 to 1000 then prompts user for guess until correct\"\"\"\n",
    "    userguess = int(input('Enter your guess: '))\n",
    "    if userguess == number:\n",
    "        print ('Correct!')\n",
    "    elif userguess != number:\n",
    "        if userguess < number:\n",
    "            print ('Too low! Guess Again')\n",
    "        elif number < userguess:\n",
    "            print ('Too high! Guess Again')\n",
    "        evaluateGuess(number)\n",
    "    \n",
    "evaluateGuess(number)"
   ]
  },
  {
   "cell_type": "markdown",
   "metadata": {},
   "source": [
    "Problem 3:"
   ]
  },
  {
   "cell_type": "code",
   "execution_count": 30,
   "metadata": {},
   "outputs": [],
   "source": [
    "import statistics as stat"
   ]
  },
  {
   "cell_type": "code",
   "execution_count": 88,
   "metadata": {},
   "outputs": [
    {
     "ename": "TypeError",
     "evalue": "unsupported operand type(s) for +: 'int' and 'list'",
     "output_type": "error",
     "traceback": [
      "\u001b[0;31m---------------------------------------------------------------------------\u001b[0m",
      "\u001b[0;31mTypeError\u001b[0m                                 Traceback (most recent call last)",
      "\u001b[0;32m<ipython-input-88-1acad0e35507>\u001b[0m in \u001b[0;36m<module>\u001b[0;34m\u001b[0m\n\u001b[1;32m      5\u001b[0m \u001b[0;34m\u001b[0m\u001b[0m\n\u001b[1;32m      6\u001b[0m \u001b[0mtemps\u001b[0m \u001b[0;34m=\u001b[0m \u001b[0;34m[\u001b[0m\u001b[0;36m30\u001b[0m\u001b[0;34m,\u001b[0m\u001b[0;36m31\u001b[0m\u001b[0;34m,\u001b[0m\u001b[0;36m32\u001b[0m\u001b[0;34m]\u001b[0m\u001b[0;34m\u001b[0m\u001b[0;34m\u001b[0m\u001b[0m\n\u001b[0;32m----> 7\u001b[0;31m \u001b[0mavg\u001b[0m \u001b[0;34m=\u001b[0m \u001b[0mmeanTemp\u001b[0m\u001b[0;34m(\u001b[0m\u001b[0mtemps\u001b[0m\u001b[0;34m)\u001b[0m\u001b[0;34m\u001b[0m\u001b[0;34m\u001b[0m\u001b[0m\n\u001b[0m\u001b[1;32m      8\u001b[0m \u001b[0;34m\u001b[0m\u001b[0m\n\u001b[1;32m      9\u001b[0m \u001b[0mprint\u001b[0m \u001b[0;34m(\u001b[0m\u001b[0;34m\"The mean temperature for the past\"\u001b[0m\u001b[0;34m,\u001b[0m \u001b[0mlen\u001b[0m\u001b[0;34m(\u001b[0m\u001b[0mtemps\u001b[0m\u001b[0;34m)\u001b[0m\u001b[0;34m,\u001b[0m \u001b[0;34m\"days is\"\u001b[0m\u001b[0;34m,\u001b[0m \u001b[0mavg\u001b[0m\u001b[0;34m,\u001b[0m \u001b[0;34m\"degrees F\"\u001b[0m\u001b[0;34m)\u001b[0m\u001b[0;34m\u001b[0m\u001b[0;34m\u001b[0m\u001b[0m\n",
      "\u001b[0;32m<ipython-input-88-1acad0e35507>\u001b[0m in \u001b[0;36mmeanTemp\u001b[0;34m(*temps)\u001b[0m\n\u001b[1;32m      1\u001b[0m \u001b[0;32mdef\u001b[0m \u001b[0mmeanTemp\u001b[0m \u001b[0;34m(\u001b[0m\u001b[0;34m*\u001b[0m\u001b[0mtemps\u001b[0m\u001b[0;34m)\u001b[0m\u001b[0;34m:\u001b[0m\u001b[0;34m\u001b[0m\u001b[0;34m\u001b[0m\u001b[0m\n\u001b[1;32m      2\u001b[0m     \u001b[0;34m\"\"\"calculates mean temperature for any number of days\"\"\"\u001b[0m\u001b[0;34m\u001b[0m\u001b[0;34m\u001b[0m\u001b[0m\n\u001b[0;32m----> 3\u001b[0;31m     \u001b[0mavg\u001b[0m \u001b[0;34m=\u001b[0m \u001b[0msum\u001b[0m\u001b[0;34m(\u001b[0m\u001b[0mtemps\u001b[0m\u001b[0;34m)\u001b[0m\u001b[0;34m/\u001b[0m\u001b[0mlen\u001b[0m\u001b[0;34m(\u001b[0m\u001b[0mtemps\u001b[0m\u001b[0;34m)\u001b[0m\u001b[0;34m\u001b[0m\u001b[0;34m\u001b[0m\u001b[0m\n\u001b[0m\u001b[1;32m      4\u001b[0m     \u001b[0;32mreturn\u001b[0m \u001b[0mavg\u001b[0m\u001b[0;34m\u001b[0m\u001b[0;34m\u001b[0m\u001b[0m\n\u001b[1;32m      5\u001b[0m \u001b[0;34m\u001b[0m\u001b[0m\n",
      "\u001b[0;31mTypeError\u001b[0m: unsupported operand type(s) for +: 'int' and 'list'"
     ]
    }
   ],
   "source": [
    "def meanTemp (*temps):\n",
    "    \"\"\"calculates mean temperature for any number of days\"\"\"\n",
    "    avg = sum(temps)/len(temps)\n",
    "    return avg\n",
    "\n",
    "temps = [30,31,32]\n",
    "avg = meanTemp(temps)\n",
    "\n",
    "print (\"The mean temperature for the past\", len(temps), \"days is\", avg, \"degrees F\")"
   ]
  },
  {
   "cell_type": "code",
   "execution_count": 79,
   "metadata": {},
   "outputs": [
    {
     "data": {
      "text/plain": [
       "4.0"
      ]
     },
     "execution_count": 79,
     "metadata": {},
     "output_type": "execute_result"
    }
   ],
   "source": [
    "meanTemp(3,4,5)"
   ]
  },
  {
   "cell_type": "code",
   "execution_count": null,
   "metadata": {},
   "outputs": [],
   "source": []
  }
 ],
 "metadata": {
  "kernelspec": {
   "display_name": "Python 3",
   "language": "python",
   "name": "python3"
  },
  "language_info": {
   "codemirror_mode": {
    "name": "ipython",
    "version": 3
   },
   "file_extension": ".py",
   "mimetype": "text/x-python",
   "name": "python",
   "nbconvert_exporter": "python",
   "pygments_lexer": "ipython3",
   "version": "3.8.3"
  }
 },
 "nbformat": 4,
 "nbformat_minor": 4
}
